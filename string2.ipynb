{
 "cells": [
  {
   "cell_type": "markdown",
   "metadata": {},
   "source": [
    "Program:WAP in Python to count vowel, constant,digit and special character."
   ]
  },
  {
   "cell_type": "code",
   "execution_count": 1,
   "metadata": {},
   "outputs": [
    {
     "name": "stdout",
     "output_type": "stream",
     "text": [
      "Enter the string:\n"
     ]
    },
    {
     "name": "stdin",
     "output_type": "stream",
     "text": [
      " Vowels:2\n"
     ]
    },
    {
     "name": "stdout",
     "output_type": "stream",
     "text": [
      "Vowels: 2\n",
      "Consonant: 4\n",
      "Digit: 1\n",
      "Special Character: 1\n"
     ]
    }
   ],
   "source": [
    "def count(str): \n",
    "    v = 0\n",
    "    c = 0\n",
    "    s = 0\n",
    "    d = 0\n",
    "  \n",
    "    for i in range(0, len(str)):  \n",
    "          \n",
    "        ch = str[i]  \n",
    "  \n",
    "        if ( (ch >= 'a' and ch <= 'z') or \n",
    "             (ch >= 'A' and ch <= 'Z') ):  \n",
    "            ch = ch.lower() \n",
    "            if (ch == 'a' or ch == 'e' or ch == 'i' \n",
    "                        or ch == 'o' or ch == 'u'): \n",
    "                v += 1\n",
    "            else: \n",
    "                c += 1\n",
    "        elif (ch >= '0' and ch <= '9'): \n",
    "            d += 1\n",
    "        else: \n",
    "            s += 1  \n",
    "    print(\"Vowels:\", v) \n",
    "    print(\"Consonant:\", c)  \n",
    "    print(\"Digit:\", d)  \n",
    "    print(\"Special Character:\", s)  \n",
    "print(\"Enter the string:\")\n",
    "str = input()\n",
    "count(str)"
   ]
  },
  {
   "cell_type": "markdown",
   "metadata": {},
   "source": [
    "Program:WAP in python to replace a given string with target string"
   ]
  },
  {
   "cell_type": "code",
   "execution_count": null,
   "metadata": {},
   "outputs": [],
   "source": [
    "string=input()\n",
    "str=string.replace(\"is\",\"was\")\n",
    "print(str)"
   ]
  },
  {
   "cell_type": "code",
   "execution_count": null,
   "metadata": {},
   "outputs": [],
   "source": []
  }
 ],
 "metadata": {
  "kernelspec": {
   "display_name": "Python 3",
   "language": "python",
   "name": "python3"
  },
  "language_info": {
   "codemirror_mode": {
    "name": "ipython",
    "version": 3
   },
   "file_extension": ".py",
   "mimetype": "text/x-python",
   "name": "python",
   "nbconvert_exporter": "python",
   "pygments_lexer": "ipython3",
   "version": "3.7.3"
  }
 },
 "nbformat": 4,
 "nbformat_minor": 4
}
