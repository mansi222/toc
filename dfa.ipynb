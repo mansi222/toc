{
 "cells": [
  {
   "cell_type": "markdown",
   "metadata": {},
   "source": [
    "Program: WAP in python for DFA which accepts the language starting with a."
   ]
  },
  {
   "cell_type": "code",
   "execution_count": 1,
   "metadata": {},
   "outputs": [
    {
     "name": "stdin",
     "output_type": "stream",
     "text": [
      "Enter a string :  'abab'\n"
     ]
    },
    {
     "name": "stdout",
     "output_type": "stream",
     "text": [
      "accepted\n"
     ]
    }
   ],
   "source": [
    "d=dict()\n",
    "d[(0,'a')]=1\n",
    "d[(0,'b')]=2\n",
    "d[(1,'a')]=1\n",
    "d[(1,'b')]=1\n",
    "d[(2,'a')]=2\n",
    "d[(2,'b')]=2\n",
    "fs=1\n",
    "c=0\n",
    "s=input(\"Enter a string : \")\n",
    "for i in s:\n",
    "        if i=='a':\n",
    "            c=d[c,i]\n",
    "        elif i=='b':\n",
    "            c=d[c,i]\n",
    "if c==fs:\n",
    "    print(\"accepted\")\n",
    "else:\n",
    "    print(\"not accepted\")"
   ]
  },
  {
   "cell_type": "markdown",
   "metadata": {},
   "source": [
    "Program: WAP in python for a machine which has 3 consecutive 1's"
   ]
  },
  {
   "cell_type": "code",
   "execution_count": 2,
   "metadata": {},
   "outputs": [
    {
     "name": "stdin",
     "output_type": "stream",
     "text": [
      "Enter a string :  '0101'\n"
     ]
    },
    {
     "name": "stdout",
     "output_type": "stream",
     "text": [
      "String not accepted\n"
     ]
    }
   ],
   "source": [
    "d=dict()\n",
    "d[(0,'0')]=0\n",
    "d[(0,'1')]=1\n",
    "d[(1,'0')]=0\n",
    "d[(1,'1')]=2\n",
    "d[(2,'0')]=0\n",
    "d[(2,'1')]=3\n",
    "d[(3,'0')]=3\n",
    "d[(3,'1')]=3\n",
    "fs=3\n",
    "c=0\n",
    "s=input(\"Enter a string : \")\n",
    "for i in s:\n",
    "        if i=='0':\n",
    "            c=d[c,i]\n",
    "        elif i=='1':\n",
    "            c=d[c,i]\n",
    "if c==fs:\n",
    "    print(\" String accepted\")\n",
    "else:\n",
    "    print(\"String not accepted\")"
   ]
  },
  {
   "cell_type": "markdown",
   "metadata": {},
   "source": [
    "Program: WAP in python to create a DFA machine which accept mod 3 strings(multiple of 3)"
   ]
  },
  {
   "cell_type": "code",
   "execution_count": 3,
   "metadata": {},
   "outputs": [
    {
     "name": "stdin",
     "output_type": "stream",
     "text": [
      "Enter a string :  '1010'\n"
     ]
    },
    {
     "name": "stdout",
     "output_type": "stream",
     "text": [
      " String accepted for mod 3 machine\n"
     ]
    }
   ],
   "source": [
    "d=dict()\n",
    "d[(0,'a')]=1\n",
    "d[(0,'b')]=1\n",
    "d[(1,'a')]=2\n",
    "d[(1,'b')]=2\n",
    "d[(2,'a')]=0\n",
    "d[(2,'b')]=0\n",
    "fs=0\n",
    "c=0\n",
    "s=input(\"Enter a string : \")\n",
    "for i in s:\n",
    "        if i=='a':\n",
    "            c=d[c,i]\n",
    "        elif i=='b':\n",
    "            c=d[c,i]\n",
    "if c==fs:\n",
    "    print(\" String accepted for mod 3 machine\")\n",
    "else:\n",
    "    print(\"String not accepted for mod 3 machine\")"
   ]
  },
  {
   "cell_type": "markdown",
   "metadata": {},
   "source": [
    "Program: WAP in python to create a DFA which accepts only strings that end with 101."
   ]
  },
  {
   "cell_type": "code",
   "execution_count": 4,
   "metadata": {},
   "outputs": [
    {
     "name": "stdin",
     "output_type": "stream",
     "text": [
      "Enter a string :  '1010'\n"
     ]
    },
    {
     "name": "stdout",
     "output_type": "stream",
     "text": [
      "String not accepted \n"
     ]
    }
   ],
   "source": [
    "d=dict()\n",
    "d[(0,'0')]=0\n",
    "d[(0,'1')]=1\n",
    "d[(1,'0')]=2\n",
    "d[(1,'1')]=1\n",
    "d[(2,'0')]=0\n",
    "d[(2,'1')]=3\n",
    "d[(3,'0')]=0\n",
    "d[(3,'1')]=0\n",
    "fs=3\n",
    "c=0\n",
    "s=input(\"Enter a string : \")\n",
    "for i in s:\n",
    "        if i=='0':\n",
    "            c=d[c,i]\n",
    "        elif i=='1':\n",
    "            c=d[c,i]\n",
    "if c==fs:\n",
    "    print(\" String accepted \")\n",
    "else:\n",
    "    print(\"String not accepted \")"
   ]
  },
  {
   "cell_type": "code",
   "execution_count": null,
   "metadata": {},
   "outputs": [],
   "source": []
  }
 ],
 "metadata": {
  "kernelspec": {
   "display_name": "Python 3",
   "language": "python",
   "name": "python3"
  },
  "language_info": {
   "codemirror_mode": {
    "name": "ipython",
    "version": 3
   },
   "file_extension": ".py",
   "mimetype": "text/x-python",
   "name": "python",
   "nbconvert_exporter": "python",
   "pygments_lexer": "ipython3",
   "version": "3.7.3"
  }
 },
 "nbformat": 4,
 "nbformat_minor": 4
}
