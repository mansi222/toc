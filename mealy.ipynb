{
 "cells": [
  {
   "cell_type": "markdown",
   "metadata": {},
   "source": [
    "Program:WAP in python to construct a mealy machine which can output even or odd(Method1-using list and dict)"
   ]
  },
  {
   "cell_type": "code",
   "execution_count": 1,
   "metadata": {},
   "outputs": [
    {
     "name": "stdin",
     "output_type": "stream",
     "text": [
      "Enter the string: 0101\n"
     ]
    },
    {
     "name": "stdout",
     "output_type": "stream",
     "text": [
      "A\n",
      "B\n",
      "B\n",
      "A\n",
      "Even\n"
     ]
    }
   ],
   "source": [
    "#case even\n",
    "dfa={'A':{'0':['Even','A'],'1':['Odd','B']},\n",
    "     'B':{'0':['Odd','B'],'1':['Even','A']}}\n",
    "class Mealy:\n",
    "    def  __init__(self,dfa):\n",
    "        self.current_state='A'\n",
    "    def function(self,string):\n",
    "        for i in range(len(string)):\n",
    "            state=dfa[self.current_state][string[i]]\n",
    "            print(state[1])\n",
    "            self.current_state=state[1]\n",
    "            output=state[0]\n",
    "        print(output)\n",
    "string=input(\"Enter the string:\")\n",
    "s=Mealy(dfa)\n",
    "s.function(string)"
   ]
  },
  {
   "cell_type": "code",
   "execution_count": 2,
   "metadata": {},
   "outputs": [
    {
     "name": "stdin",
     "output_type": "stream",
     "text": [
      "Enter the string: 000111\n"
     ]
    },
    {
     "name": "stdout",
     "output_type": "stream",
     "text": [
      "A\n",
      "A\n",
      "A\n",
      "B\n",
      "A\n",
      "B\n",
      "Odd\n"
     ]
    }
   ],
   "source": [
    "#case odd\n",
    "dfa={'A':{'0':['Even','A'],'1':['Odd','B']},\n",
    "     'B':{'0':['Odd','B'],'1':['Even','A']}}\n",
    "class Mealy:\n",
    "    def  __init__(self,dfa):\n",
    "        self.current_state='A'\n",
    "    def function(self,string):\n",
    "        for i in range(len(string)):\n",
    "            state=dfa[self.current_state][string[i]]\n",
    "            print(state[1])\n",
    "            self.current_state=state[1]\n",
    "            output=state[0]\n",
    "        print(output)\n",
    "string=input(\"Enter the string:\")\n",
    "s=Mealy(dfa)\n",
    "s.function(string)"
   ]
  },
  {
   "cell_type": "markdown",
   "metadata": {},
   "source": [
    "Program:WAP in python to construct a mealy machine which can output even or odd(Method2-using dict)"
   ]
  },
  {
   "cell_type": "code",
   "execution_count": 3,
   "metadata": {},
   "outputs": [
    {
     "name": "stdin",
     "output_type": "stream",
     "text": [
      "Enter a string:  010101100\n"
     ]
    },
    {
     "name": "stdout",
     "output_type": "stream",
     "text": [
      "A\n",
      "even\n",
      "B\n",
      "even\n",
      "B\n",
      "odd\n",
      "A\n",
      "odd\n",
      "A\n",
      "even\n",
      "B\n",
      "even\n",
      "A\n",
      "odd\n",
      "A\n",
      "even\n",
      "A\n",
      "even\n"
     ]
    }
   ],
   "source": [
    "dfa1 = {}\n",
    "dfa1[('A','0')]='A'\n",
    "dfa1[('A','1')]='B'\n",
    "dfa1[('B','0')]='B'\n",
    "dfa1[('B','1')]='A'\n",
    "\n",
    "dfa2 = {}\n",
    "dfa2[('A','0')]='even'\n",
    "dfa2[('A','1')]='odd'\n",
    "dfa2[('B','0')]='odd'\n",
    "dfa2[('B','1')]='even'\n",
    "\n",
    "class Mealy:\n",
    "    def __init__(self,dfa1,dfa2):\n",
    "        self.current_state='A'\n",
    "        \n",
    "    def function(self,string):\n",
    "        for i in range(len(string)):\n",
    "            self.current_state=dfa1[(self.current_state,string[i])]\n",
    "            print(self.current_state)\n",
    "            print(dfa2[(self.current_state,string[i])])\n",
    "string=input(\"Enter a string: \")\n",
    "s=Mealy(dfa1,dfa2)\n",
    "s.function(string)"
   ]
  },
  {
   "cell_type": "markdown",
   "metadata": {},
   "source": [
    "Program:WAP in python to construct a mealy machine which can output even or odd(Method3-using tuple and dict)"
   ]
  },
  {
   "cell_type": "code",
   "execution_count": 4,
   "metadata": {},
   "outputs": [
    {
     "name": "stdin",
     "output_type": "stream",
     "text": [
      "Enter the string: 010\n"
     ]
    },
    {
     "name": "stdout",
     "output_type": "stream",
     "text": [
      "A\n",
      "B\n",
      "B\n",
      "Odd\n"
     ]
    }
   ],
   "source": [
    "#case odd\n",
    "dfa={'A':{'0':('Even','A'),'1':('Odd','B')},\n",
    "     'B':{'0':('Odd','B'),'1':('Even','A')}}\n",
    "class Mealy:\n",
    "    def  __init__(self,dfa):\n",
    "        self.current_state='A'\n",
    "    def function(self,string):\n",
    "        for i in range(len(string)):\n",
    "            state=dfa[self.current_state][string[i]]\n",
    "            print(state[1])\n",
    "            self.current_state=state[1]\n",
    "            output=state[0]\n",
    "        print(output)\n",
    "string=input(\"Enter the string:\")\n",
    "s=Mealy(dfa)\n",
    "s.function(string)"
   ]
  },
  {
   "cell_type": "code",
   "execution_count": 6,
   "metadata": {},
   "outputs": [
    {
     "name": "stdin",
     "output_type": "stream",
     "text": [
      "Enter the string: 1010\n"
     ]
    },
    {
     "name": "stdout",
     "output_type": "stream",
     "text": [
      "B\n",
      "B\n",
      "A\n",
      "A\n",
      "Even\n"
     ]
    }
   ],
   "source": [
    "#case even\n",
    "dfa={'A':{'0':('Even','A'),'1':('Odd','B')},\n",
    "     'B':{'0':('Odd','B'),'1':('Even','A')}}\n",
    "class Mealy:\n",
    "    def  __init__(self,dfa):\n",
    "        self.current_state='A'\n",
    "    def function(self,string):\n",
    "        for i in range(len(string)):\n",
    "            state=dfa[self.current_state][string[i]]\n",
    "            print(state[1])\n",
    "            self.current_state=state[1]\n",
    "            output=state[0]\n",
    "        print(output)\n",
    "string=input(\"Enter the string:\")\n",
    "s=Mealy(dfa)\n",
    "s.function(string)"
   ]
  },
  {
   "cell_type": "markdown",
   "metadata": {},
   "source": [
    "Program:WAP in python to construct a mealy machine which can output even or odd(Method4 - using loop)"
   ]
  },
  {
   "cell_type": "code",
   "execution_count": 15,
   "metadata": {},
   "outputs": [
    {
     "name": "stdin",
     "output_type": "stream",
     "text": [
      "Enter a string: A\n"
     ]
    }
   ],
   "source": [
    "def function(string):\n",
    "    dfa={'A':{'0':'even','1':'odd'},'B':{'0':'odd','1':'even'}}\n",
    "    state='A'\n",
    "    for i in string:\n",
    "        output=d[state][i]\n",
    "        if output=='odd':\n",
    "            state='B'\n",
    "        else:\n",
    "            state='A'\n",
    "        print(output)\n",
    "string=input(\"Enter a string:\")"
   ]
  },
  {
   "cell_type": "markdown",
   "metadata": {},
   "source": [
    "Program:WAP in python to construct a mealy machine increment of binary number by 1."
   ]
  },
  {
   "cell_type": "code",
   "execution_count": 10,
   "metadata": {},
   "outputs": [
    {
     "name": "stdin",
     "output_type": "stream",
     "text": [
      "Enter the string: 11110\n"
     ]
    },
    {
     "name": "stdout",
     "output_type": "stream",
     "text": [
      "A\n",
      "0\n",
      "A\n",
      "0\n",
      "A\n",
      "0\n",
      "A\n",
      "0\n",
      "B\n",
      "1\n"
     ]
    }
   ],
   "source": [
    "dfa={'A':{'0':('1','B'),'1':('0','A')},\n",
    "     'B':{'0':('0','B'),'1':('1','B')}}\n",
    "class Mealy:\n",
    "    def  __init__(self,dfa):\n",
    "        self.current_state='A'\n",
    "    def function(self,string):\n",
    "        for i in range(len(string)):\n",
    "            state=dfa[self.current_state][string[i]]\n",
    "            print(state[1])\n",
    "            self.current_state=state[1]\n",
    "            output=state[0]\n",
    "            print(output)\n",
    "string=input(\"Enter the string:\")\n",
    "s=Mealy(dfa)\n",
    "s.function(string)"
   ]
  },
  {
   "cell_type": "markdown",
   "metadata": {},
   "source": [
    "Program:WAP in python to construct a mealy machine for 2's compliment"
   ]
  },
  {
   "cell_type": "code",
   "execution_count": 11,
   "metadata": {},
   "outputs": [
    {
     "name": "stdin",
     "output_type": "stream",
     "text": [
      "Enter the string: 0011\n"
     ]
    },
    {
     "name": "stdout",
     "output_type": "stream",
     "text": [
      "0\n",
      "0\n",
      "1\n",
      "0\n"
     ]
    }
   ],
   "source": [
    "dfa={'A':{'0':('0','A'),'1':('1','B')},\n",
    "     'B':{'0':('1','B'),'1':('0','B')}}\n",
    "class Mealy:\n",
    "    def  __init__(self,dfa):\n",
    "        self.current_state='A'\n",
    "    def function(self,string):\n",
    "        for i in range(len(string)):\n",
    "            state=dfa[self.current_state][string[i]]\n",
    "            self.current_state=state[1]\n",
    "            output=state[0]\n",
    "            print(output)\n",
    "string=input(\"Enter the string:\")\n",
    "s=Mealy(dfa)\n",
    "s.function(string)"
   ]
  },
  {
   "cell_type": "code",
   "execution_count": null,
   "metadata": {},
   "outputs": [],
   "source": []
  }
 ],
 "metadata": {
  "kernelspec": {
   "display_name": "Python 3",
   "language": "python",
   "name": "python3"
  },
  "language_info": {
   "codemirror_mode": {
    "name": "ipython",
    "version": 3
   },
   "file_extension": ".py",
   "mimetype": "text/x-python",
   "name": "python",
   "nbconvert_exporter": "python",
   "pygments_lexer": "ipython3",
   "version": "3.7.3"
  }
 },
 "nbformat": 4,
 "nbformat_minor": 4
}
