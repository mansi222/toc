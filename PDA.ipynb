{
 "cells": [
  {
   "cell_type": "markdown",
   "metadata": {},
   "source": [
    "PUSH DOWN AUTOMATA(PDA)"
   ]
  },
  {
   "cell_type": "markdown",
   "metadata": {},
   "source": [
    "Program: Design a PDA that accepts a string a^n b^n where n>=1 (Test case-1)"
   ]
  },
  {
   "cell_type": "code",
   "execution_count": 1,
   "metadata": {},
   "outputs": [
    {
     "name": "stdin",
     "output_type": "stream",
     "text": [
      "Enter the expression:  aabb\n"
     ]
    },
    {
     "name": "stdout",
     "output_type": "stream",
     "text": [
      "Valid string\n"
     ]
    }
   ],
   "source": [
    "class Stack:\n",
    "    def __init__(self):\n",
    "        self.l = []\n",
    " \n",
    "    def is_empty(self):\n",
    "        return self.l == []\n",
    " \n",
    "    def push(self, data):\n",
    "        self.l.append(data)\n",
    " \n",
    "    def pop(self):\n",
    "        return self.l.pop()\n",
    " \n",
    " \n",
    "s = Stack()\n",
    "exp = input('Enter the expression: ')\n",
    " \n",
    "for e in exp:\n",
    "    if e == 'a':\n",
    "        s.push(1)\n",
    "    elif e == 'b':\n",
    "        if s.is_empty():\n",
    "            balanced = False\n",
    "            break\n",
    "        s.pop()\n",
    "else:\n",
    "    if s.is_empty():\n",
    "        balanced = True\n",
    "    else:\n",
    "        balanced = False\n",
    " \n",
    "if balanced:\n",
    "    print('Valid string')\n",
    "else:\n",
    "    print('Invalid string')\n"
   ]
  },
  {
   "cell_type": "markdown",
   "metadata": {},
   "source": [
    "Program: Design a PDA that accepts a string a^n b^n where n>=1 (Test case-2)"
   ]
  },
  {
   "cell_type": "code",
   "execution_count": 2,
   "metadata": {},
   "outputs": [
    {
     "name": "stdin",
     "output_type": "stream",
     "text": [
      "Enter the expression:  abb\n"
     ]
    },
    {
     "name": "stdout",
     "output_type": "stream",
     "text": [
      "Invalid string\n"
     ]
    }
   ],
   "source": [
    "class Stack:\n",
    "    def __init__(self):\n",
    "        self.l = []\n",
    " \n",
    "    def is_empty(self):\n",
    "        return self.l == []\n",
    " \n",
    "    def push(self, data):\n",
    "        self.l.append(data)\n",
    " \n",
    "    def pop(self):\n",
    "        return self.l.pop()\n",
    " \n",
    " \n",
    "s = Stack()\n",
    "exp = input('Enter the expression: ')\n",
    " \n",
    "for e in exp:\n",
    "    if e == 'a':\n",
    "        s.push(1)\n",
    "    elif e == 'b':\n",
    "        if s.is_empty():\n",
    "            balanced = False\n",
    "            break\n",
    "        s.pop()\n",
    "else:\n",
    "    if s.is_empty():\n",
    "        balanced = True\n",
    "    else:\n",
    "        balanced = False\n",
    " \n",
    "if balanced:\n",
    "    print('Valid string')\n",
    "else:\n",
    "    print('Invalid string')"
   ]
  },
  {
   "cell_type": "markdown",
   "metadata": {},
   "source": [
    "Program:Design a PDA that accepts a string a^nb^nc^2n where n>=1.(Test case-1)"
   ]
  },
  {
   "cell_type": "code",
   "execution_count": 8,
   "metadata": {},
   "outputs": [
    {
     "name": "stdin",
     "output_type": "stream",
     "text": [
      "Enter the expression:  aabbcccc\n"
     ]
    },
    {
     "name": "stdout",
     "output_type": "stream",
     "text": [
      "Valid string\n"
     ]
    }
   ],
   "source": [
    "class Stack:\n",
    "    def __init__(self):\n",
    "        self.l = []\n",
    " \n",
    "    def is_empty(self):\n",
    "        return self.l == []\n",
    " \n",
    "    def push(self, data):\n",
    "        self.l.append(data)\n",
    " \n",
    "    def pop(self):\n",
    "        return self.l.pop()\n",
    " \n",
    " \n",
    "s = Stack()\n",
    "exp = input('Enter the expression: ')\n",
    " \n",
    "for e in exp:\n",
    "    if e == 'a':\n",
    "        s.push(1)\n",
    "    elif e == 'b':\n",
    "        s.push(1)\n",
    "    elif e == 'c':\n",
    "        if s.is_empty():\n",
    "            balanced = False\n",
    "            break\n",
    "        s.pop()\n",
    "else:\n",
    "    if s.is_empty():\n",
    "        balanced = True\n",
    "    else:\n",
    "        balanced = False\n",
    " \n",
    "if balanced:\n",
    "    print('Valid string')\n",
    "else:\n",
    "    print('Invalid string')"
   ]
  },
  {
   "cell_type": "markdown",
   "metadata": {},
   "source": [
    "Program:Design a PDA that accepts a string a^nb^nc^2n where n>=1.(Test case-2)"
   ]
  },
  {
   "cell_type": "code",
   "execution_count": 9,
   "metadata": {},
   "outputs": [
    {
     "name": "stdin",
     "output_type": "stream",
     "text": [
      "Enter the expression:  aabbccc\n"
     ]
    },
    {
     "name": "stdout",
     "output_type": "stream",
     "text": [
      "Invalid string\n"
     ]
    }
   ],
   "source": [
    "class Stack:\n",
    "    def __init__(self):\n",
    "        self.l = []\n",
    " \n",
    "    def is_empty(self):\n",
    "        return self.l == []\n",
    " \n",
    "    def push(self, data):\n",
    "        self.l.append(data)\n",
    " \n",
    "    def pop(self):\n",
    "        return self.l.pop()\n",
    " \n",
    " \n",
    "s = Stack()\n",
    "exp = input('Enter the expression: ')\n",
    " \n",
    "for e in exp:\n",
    "    if e == 'a':\n",
    "        s.push(1)\n",
    "    elif e == 'b':\n",
    "        s.push(1)\n",
    "    elif e == 'c':\n",
    "        if s.is_empty():\n",
    "            balanced = False\n",
    "            break\n",
    "        s.pop()\n",
    "else:\n",
    "    if s.is_empty():\n",
    "        balanced = True\n",
    "    else:\n",
    "        balanced = False\n",
    " \n",
    "if balanced:\n",
    "    print('Valid string')\n",
    "else:\n",
    "    print('Invalid string')\n"
   ]
  },
  {
   "cell_type": "code",
   "execution_count": null,
   "metadata": {},
   "outputs": [],
   "source": []
  }
 ],
 "metadata": {
  "kernelspec": {
   "display_name": "Python 3",
   "language": "python",
   "name": "python3"
  },
  "language_info": {
   "codemirror_mode": {
    "name": "ipython",
    "version": 3
   },
   "file_extension": ".py",
   "mimetype": "text/x-python",
   "name": "python",
   "nbconvert_exporter": "python",
   "pygments_lexer": "ipython3",
   "version": "3.7.3"
  }
 },
 "nbformat": 4,
 "nbformat_minor": 4
}
