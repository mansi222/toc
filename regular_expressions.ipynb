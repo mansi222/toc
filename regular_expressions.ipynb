{
 "cells": [
  {
   "cell_type": "markdown",
   "metadata": {},
   "source": [
    "Program:Language ending with two zeros"
   ]
  },
  {
   "cell_type": "code",
   "execution_count": 1,
   "metadata": {},
   "outputs": [
    {
     "name": "stdout",
     "output_type": "stream",
     "text": [
      "String valid\n"
     ]
    }
   ],
   "source": [
    "import re\n",
    "str=\"001100\"\n",
    "x=re.search(\"[0-1]*00$\",str)\n",
    "if(x):\n",
    "    print(\"String valid\")\n",
    "else:\n",
    "    print(\"String invalid\")"
   ]
  },
  {
   "cell_type": "markdown",
   "metadata": {},
   "source": [
    "Program:Language containing 'a' at third last position"
   ]
  },
  {
   "cell_type": "code",
   "execution_count": 2,
   "metadata": {},
   "outputs": [
    {
     "name": "stdout",
     "output_type": "stream",
     "text": [
      "String valid\n"
     ]
    }
   ],
   "source": [
    "import re\n",
    "str=\"babb\"\n",
    "x=re.search(\"[a-b]*a[a-b][a-b]\",str)\n",
    "if(x):\n",
    "    print(\"String valid\")\n",
    "else:\n",
    "    print(\"String invalid\")"
   ]
  },
  {
   "cell_type": "markdown",
   "metadata": {},
   "source": [
    "Program:Language conatining atleast one 'a'"
   ]
  },
  {
   "cell_type": "code",
   "execution_count": 3,
   "metadata": {},
   "outputs": [
    {
     "name": "stdout",
     "output_type": "stream",
     "text": [
      "String valid\n"
     ]
    }
   ],
   "source": [
    "import re\n",
    "str=\"babb\"\n",
    "x=re.search(\"[a-b]*a[a-b]*\",str)\n",
    "if(x):\n",
    "    print(\"String valid\")\n",
    "else:\n",
    "    print(\"String invalid\")"
   ]
  },
  {
   "cell_type": "markdown",
   "metadata": {},
   "source": [
    "Program:Language accepting even number of a's(restriction lang. alphabet are a,b)"
   ]
  },
  {
   "cell_type": "code",
   "execution_count": 4,
   "metadata": {},
   "outputs": [
    {
     "name": "stdout",
     "output_type": "stream",
     "text": [
      "odd\n"
     ]
    }
   ],
   "source": [
    "import re\n",
    "str=\"aaab\"\n",
    "x=len(re.findall(\"a\",str))%2==0\n",
    "if(x):\n",
    "    print(\"even\")\n",
    "else:\n",
    "    print(\"odd\")"
   ]
  },
  {
   "cell_type": "markdown",
   "metadata": {},
   "source": [
    "Program:Language containing substring 'aba'would be accepted"
   ]
  },
  {
   "cell_type": "code",
   "execution_count": 5,
   "metadata": {},
   "outputs": [
    {
     "name": "stdout",
     "output_type": "stream",
     "text": [
      " valid \n"
     ]
    }
   ],
   "source": [
    "import re\n",
    "str=\"babaaba\"\n",
    "x=re.search(\"[a-b]*aba[a-b]*\",str)\n",
    "if(x):\n",
    "    print(\" valid \")\n",
    "else:\n",
    "    print(\" invalid \")"
   ]
  },
  {
   "cell_type": "markdown",
   "metadata": {},
   "source": [
    "Program:Language accepting the phone number(restriction +91 and 10 digits in phone number )"
   ]
  },
  {
   "cell_type": "code",
   "execution_count": 6,
   "metadata": {},
   "outputs": [
    {
     "name": "stdout",
     "output_type": "stream",
     "text": [
      " valid phone no.\n"
     ]
    }
   ],
   "source": [
    "import re\n",
    "str=\"+919425311455\"\n",
    "x=re.search(\"^\\+91[0-9]{10}$\",str)\n",
    "if(x):\n",
    "    print(\" valid phone no.\")\n",
    "else:\n",
    "    print(\" invalid phone no.\")"
   ]
  },
  {
   "cell_type": "markdown",
   "metadata": {},
   "source": [
    "Program:Language accepting the Enrollment number having restriction(0827 college code,dept.name,171,roll number)"
   ]
  },
  {
   "cell_type": "code",
   "execution_count": 7,
   "metadata": {},
   "outputs": [
    {
     "name": "stdout",
     "output_type": "stream",
     "text": [
      "VALID ENROLLMENT \n"
     ]
    }
   ],
   "source": [
    "import re\n",
    "str=\"0827ME171067\"\n",
    "x=re.search(\"^0827+CS|IT|ME|EC|CE+171[000-240]$\",str)\n",
    "if(x):\n",
    "    print(\"VALID ENROLLMENT \")\n",
    "else:\n",
    "    print(\" INVALID ENROLLMENT\")"
   ]
  },
  {
   "cell_type": "markdown",
   "metadata": {},
   "source": [
    "Program:Language accepting exactly two b's."
   ]
  },
  {
   "cell_type": "code",
   "execution_count": 8,
   "metadata": {},
   "outputs": [
    {
     "name": "stdout",
     "output_type": "stream",
     "text": [
      "String valid\n"
     ]
    }
   ],
   "source": [
    "import re\n",
    "str=\"ababaaa\"\n",
    "x=re.search(\"a*ba*ba*\",str)\n",
    "if(x):\n",
    "    print(\"String valid\")\n",
    "else:\n",
    "    print(\"String invalid\")"
   ]
  },
  {
   "cell_type": "markdown",
   "metadata": {},
   "source": [
    "Program:Language accepting literals(start with a-z,A-Z and end with a-z,0-9,_)"
   ]
  },
  {
   "cell_type": "code",
   "execution_count": 9,
   "metadata": {},
   "outputs": [
    {
     "name": "stdout",
     "output_type": "stream",
     "text": [
      "String invalid\n"
     ]
    }
   ],
   "source": [
    "import re\n",
    "str=\"234snhgf\"\n",
    "x=re.search(\"^[a-zA-Z]\\w*$\",str)\n",
    "if(x):\n",
    "    print(\"String valid\")\n",
    "else:\n",
    "    print(\"String invalid\")"
   ]
  },
  {
   "cell_type": "markdown",
   "metadata": {},
   "source": [
    "Program:Language accepting even no of a's and b's."
   ]
  },
  {
   "cell_type": "code",
   "execution_count": 10,
   "metadata": {},
   "outputs": [
    {
     "name": "stdout",
     "output_type": "stream",
     "text": [
      "Even\n"
     ]
    }
   ],
   "source": [
    "import re\n",
    "str=\"abab\"\n",
    "x=len(re.findall(\"a\",str))%2\n",
    "y=len(re.findall(\"b\",str))%2\n",
    "if(x==0 and y==0):\n",
    "    print(\"Even\")\n",
    "else:\n",
    "    print(\"Odd\")"
   ]
  },
  {
   "cell_type": "markdown",
   "metadata": {},
   "source": [
    "Program:Language accepting the name in proper format(First,Middle,Last or First,Last)"
   ]
  },
  {
   "cell_type": "code",
   "execution_count": 11,
   "metadata": {},
   "outputs": [
    {
     "name": "stdout",
     "output_type": "stream",
     "text": [
      "String valid\n"
     ]
    }
   ],
   "source": [
    "import re\n",
    "str=\"Ram Gopal Verma\"\n",
    "x=re.search(\"^[A-Z][a-z]*[ ]+[A-Z][a-z]*$|^[A-Z][a-z]*[ ]+[A-Z][a-z]*[ ]+[A-Z][a-z]*$\",str)\n",
    "if(x):\n",
    "    print(\"String valid\")\n",
    "else:\n",
    "    print(\"String invalid\")"
   ]
  },
  {
   "cell_type": "markdown",
   "metadata": {},
   "source": [
    "Program: language accepting 1 at starting and 0 at end or viceversa"
   ]
  },
  {
   "cell_type": "code",
   "execution_count": 12,
   "metadata": {},
   "outputs": [
    {
     "name": "stdout",
     "output_type": "stream",
     "text": [
      "Invalid String\n"
     ]
    }
   ],
   "source": [
    "import re\n",
    "str=\"000\"\n",
    "x=re.search(\"^1[0-1]*0$|^0[0-1]*1$\",str)\n",
    "if(x):\n",
    "    print(\"Valid String\")\n",
    "else:\n",
    "    print(\"Invalid String\")"
   ]
  },
  {
   "cell_type": "code",
   "execution_count": null,
   "metadata": {},
   "outputs": [],
   "source": []
  }
 ],
 "metadata": {
  "kernelspec": {
   "display_name": "Python 3",
   "language": "python",
   "name": "python3"
  },
  "language_info": {
   "codemirror_mode": {
    "name": "ipython",
    "version": 3
   },
   "file_extension": ".py",
   "mimetype": "text/x-python",
   "name": "python",
   "nbconvert_exporter": "python",
   "pygments_lexer": "ipython3",
   "version": "3.7.3"
  }
 },
 "nbformat": 4,
 "nbformat_minor": 4
}
